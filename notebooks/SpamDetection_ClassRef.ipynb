{
 "cells": [
  {
   "cell_type": "code",
   "execution_count": 3,
   "metadata": {},
   "outputs": [],
   "source": [
    "import sys\n",
    "import os\n",
    "import numpy as np\n",
    "\n",
    "sys.path.append (os.path.abspath('../Libraries'))\n",
    "from spam_detector import SpamDetector"
   ]
  },
  {
   "cell_type": "code",
   "execution_count": 4,
   "metadata": {},
   "outputs": [
    {
     "name": "stdout",
     "output_type": "stream",
     "text": [
      "\u001b[33m\n",
      "Current Model: Logistic Regression [LogisticRegression()]\u001b[0m\n",
      "\u001b[35mMean Accuracy Score [20 Iterations]: 0.9634977578475337\u001b[0m\n",
      "\u001b[33m\n",
      "Current Model: Naive Bayes Multinomia [MultinomialNB()]\u001b[0m\n",
      "\u001b[35mMean Accuracy Score [20 Iterations]: 0.9700000000000001\u001b[0m\n",
      "\n",
      "Sumary:\n",
      "\u001b[36mModel Name:Logistic Regression with accuracy 0.9634977578475337\u001b[0m\n",
      "\u001b[36mModel Name:Naive Bayes Multinomia with accuracy 0.9700000000000001\u001b[0m\n",
      "\n",
      "\n"
     ]
    },
    {
     "data": {
      "text/plain": [
       "'Naive Bayes Multinomia'"
      ]
     },
     "execution_count": 4,
     "metadata": {},
     "output_type": "execute_result"
    }
   ],
   "source": [
    "x = SpamDetector()\n",
    "x.selected_model.ModelName"
   ]
  },
  {
   "cell_type": "code",
   "execution_count": 5,
   "metadata": {},
   "outputs": [
    {
     "name": "stdout",
     "output_type": "stream",
     "text": [
      "The prediction by the algorithm MultinomialNB() is Spam [1]\n"
     ]
    },
    {
     "data": {
      "text/plain": [
       "(1, 'Spam')"
      ]
     },
     "execution_count": 5,
     "metadata": {},
     "output_type": "execute_result"
    }
   ],
   "source": [
    "res = x.IsSpam(\"Free entry in 2 a wkly comp to win FA Cup\")\n",
    "res"
   ]
  }
 ],
 "metadata": {
  "kernelspec": {
   "display_name": "base",
   "language": "python",
   "name": "python3"
  },
  "language_info": {
   "codemirror_mode": {
    "name": "ipython",
    "version": 3
   },
   "file_extension": ".py",
   "mimetype": "text/x-python",
   "name": "python",
   "nbconvert_exporter": "python",
   "pygments_lexer": "ipython3",
   "version": "3.11.7"
  }
 },
 "nbformat": 4,
 "nbformat_minor": 2
}
