{
 "cells": [
  {
   "cell_type": "code",
   "execution_count": 28,
   "metadata": {},
   "outputs": [],
   "source": [
    "# Email Spam Detection\n",
    "# Source can also be from https://www.kaggle.com/code/mfaisalqureshi/email-spam-detection-98-accuracy"
   ]
  },
  {
   "cell_type": "code",
   "execution_count": 29,
   "metadata": {},
   "outputs": [],
   "source": [
    "#!pip install pandas\n",
    "#!pip install numpy"
   ]
  },
  {
   "cell_type": "code",
   "execution_count": 30,
   "metadata": {},
   "outputs": [],
   "source": [
    "import pandas as pd # data processing, file operations\n",
    "import numpy as np\n",
    "from sklearn.pipeline import Pipeline"
   ]
  },
  {
   "cell_type": "markdown",
   "metadata": {},
   "source": [
    "## Data Load"
   ]
  },
  {
   "cell_type": "code",
   "execution_count": null,
   "metadata": {},
   "outputs": [],
   "source": [
    "def load_data():\n",
    "    df = pd.read_csv('../data/raw/mail_data.csv')\n",
    "    return df\n",
    "\n",
    "def extract_transform_load(df):\n",
    "    # Add a category which is numerical\n",
    "    df[\"IsSpam\"] = df['Category'].map({'spam': 1, 'ham': 0}) # an alternate way to set the values instead of using lambda\n",
    "    # df[\"IsSpam1\"] = df['Category'].apply(lambda x:1 if x=='spam' else 0) # We need numerical column for our AI Model\n"
   ]
  },
  {
   "cell_type": "code",
   "execution_count": 31,
   "metadata": {},
   "outputs": [
    {
     "data": {
      "text/html": [
       "<div>\n",
       "<style scoped>\n",
       "    .dataframe tbody tr th:only-of-type {\n",
       "        vertical-align: middle;\n",
       "    }\n",
       "\n",
       "    .dataframe tbody tr th {\n",
       "        vertical-align: top;\n",
       "    }\n",
       "\n",
       "    .dataframe thead th {\n",
       "        text-align: right;\n",
       "    }\n",
       "</style>\n",
       "<table border=\"1\" class=\"dataframe\">\n",
       "  <thead>\n",
       "    <tr style=\"text-align: right;\">\n",
       "      <th></th>\n",
       "      <th>Category</th>\n",
       "      <th>Message</th>\n",
       "    </tr>\n",
       "  </thead>\n",
       "  <tbody>\n",
       "    <tr>\n",
       "      <th>0</th>\n",
       "      <td>ham</td>\n",
       "      <td>Go until jurong point, crazy.. Available only ...</td>\n",
       "    </tr>\n",
       "    <tr>\n",
       "      <th>1</th>\n",
       "      <td>ham</td>\n",
       "      <td>Ok lar... Joking wif u oni...</td>\n",
       "    </tr>\n",
       "    <tr>\n",
       "      <th>2</th>\n",
       "      <td>spam</td>\n",
       "      <td>Free entry in 2 a wkly comp to win FA Cup fina...</td>\n",
       "    </tr>\n",
       "    <tr>\n",
       "      <th>3</th>\n",
       "      <td>ham</td>\n",
       "      <td>U dun say so early hor... U c already then say...</td>\n",
       "    </tr>\n",
       "    <tr>\n",
       "      <th>4</th>\n",
       "      <td>ham</td>\n",
       "      <td>Nah I don't think he goes to usf, he lives aro...</td>\n",
       "    </tr>\n",
       "    <tr>\n",
       "      <th>...</th>\n",
       "      <td>...</td>\n",
       "      <td>...</td>\n",
       "    </tr>\n",
       "    <tr>\n",
       "      <th>5567</th>\n",
       "      <td>spam</td>\n",
       "      <td>This is the 2nd time we have tried 2 contact u...</td>\n",
       "    </tr>\n",
       "    <tr>\n",
       "      <th>5568</th>\n",
       "      <td>ham</td>\n",
       "      <td>Will ü b going to esplanade fr home?</td>\n",
       "    </tr>\n",
       "    <tr>\n",
       "      <th>5569</th>\n",
       "      <td>ham</td>\n",
       "      <td>Pity, * was in mood for that. So...any other s...</td>\n",
       "    </tr>\n",
       "    <tr>\n",
       "      <th>5570</th>\n",
       "      <td>ham</td>\n",
       "      <td>The guy did some bitching but I acted like i'd...</td>\n",
       "    </tr>\n",
       "    <tr>\n",
       "      <th>5571</th>\n",
       "      <td>ham</td>\n",
       "      <td>Rofl. Its true to its name</td>\n",
       "    </tr>\n",
       "  </tbody>\n",
       "</table>\n",
       "<p>5572 rows × 2 columns</p>\n",
       "</div>"
      ],
      "text/plain": [
       "     Category                                            Message\n",
       "0         ham  Go until jurong point, crazy.. Available only ...\n",
       "1         ham                      Ok lar... Joking wif u oni...\n",
       "2        spam  Free entry in 2 a wkly comp to win FA Cup fina...\n",
       "3         ham  U dun say so early hor... U c already then say...\n",
       "4         ham  Nah I don't think he goes to usf, he lives aro...\n",
       "...       ...                                                ...\n",
       "5567     spam  This is the 2nd time we have tried 2 contact u...\n",
       "5568      ham               Will ü b going to esplanade fr home?\n",
       "5569      ham  Pity, * was in mood for that. So...any other s...\n",
       "5570      ham  The guy did some bitching but I acted like i'd...\n",
       "5571      ham                         Rofl. Its true to its name\n",
       "\n",
       "[5572 rows x 2 columns]"
      ]
     },
     "execution_count": 31,
     "metadata": {},
     "output_type": "execute_result"
    }
   ],
   "source": [
    "# df = pd.read_csv('../data/mail_data.csv')\n",
    "# df"
   ]
  },
  {
   "cell_type": "markdown",
   "metadata": {},
   "source": [
    "## Extract Transform Load (ETL)"
   ]
  },
  {
   "cell_type": "code",
   "execution_count": 32,
   "metadata": {},
   "outputs": [
    {
     "name": "stdout",
     "output_type": "stream",
     "text": [
      "<class 'pandas.core.frame.DataFrame'>\n",
      "RangeIndex: 5572 entries, 0 to 5571\n",
      "Data columns (total 2 columns):\n",
      " #   Column    Non-Null Count  Dtype \n",
      "---  ------    --------------  ----- \n",
      " 0   Category  5572 non-null   object\n",
      " 1   Message   5572 non-null   object\n",
      "dtypes: object(2)\n",
      "memory usage: 87.2+ KB\n"
     ]
    }
   ],
   "source": [
    "# df.info()"
   ]
  },
  {
   "cell_type": "code",
   "execution_count": 33,
   "metadata": {},
   "outputs": [
    {
     "data": {
      "text/plain": [
       "pandas.core.series.Series"
      ]
     },
     "execution_count": 33,
     "metadata": {},
     "output_type": "execute_result"
    }
   ],
   "source": [
    "# Checking for null\n",
    "b = df.isna().sum()\n",
    "type(b)"
   ]
  },
  {
   "cell_type": "code",
   "execution_count": 34,
   "metadata": {},
   "outputs": [
    {
     "data": {
      "text/html": [
       "<div>\n",
       "<style scoped>\n",
       "    .dataframe tbody tr th:only-of-type {\n",
       "        vertical-align: middle;\n",
       "    }\n",
       "\n",
       "    .dataframe tbody tr th {\n",
       "        vertical-align: top;\n",
       "    }\n",
       "\n",
       "    .dataframe thead th {\n",
       "        text-align: right;\n",
       "    }\n",
       "</style>\n",
       "<table border=\"1\" class=\"dataframe\">\n",
       "  <thead>\n",
       "    <tr style=\"text-align: right;\">\n",
       "      <th></th>\n",
       "      <th>Category</th>\n",
       "      <th>Message</th>\n",
       "      <th>IsSpam</th>\n",
       "    </tr>\n",
       "  </thead>\n",
       "  <tbody>\n",
       "    <tr>\n",
       "      <th>0</th>\n",
       "      <td>ham</td>\n",
       "      <td>Go until jurong point, crazy.. Available only ...</td>\n",
       "      <td>0</td>\n",
       "    </tr>\n",
       "    <tr>\n",
       "      <th>1</th>\n",
       "      <td>ham</td>\n",
       "      <td>Ok lar... Joking wif u oni...</td>\n",
       "      <td>0</td>\n",
       "    </tr>\n",
       "    <tr>\n",
       "      <th>2</th>\n",
       "      <td>spam</td>\n",
       "      <td>Free entry in 2 a wkly comp to win FA Cup fina...</td>\n",
       "      <td>1</td>\n",
       "    </tr>\n",
       "    <tr>\n",
       "      <th>3</th>\n",
       "      <td>ham</td>\n",
       "      <td>U dun say so early hor... U c already then say...</td>\n",
       "      <td>0</td>\n",
       "    </tr>\n",
       "    <tr>\n",
       "      <th>4</th>\n",
       "      <td>ham</td>\n",
       "      <td>Nah I don't think he goes to usf, he lives aro...</td>\n",
       "      <td>0</td>\n",
       "    </tr>\n",
       "    <tr>\n",
       "      <th>...</th>\n",
       "      <td>...</td>\n",
       "      <td>...</td>\n",
       "      <td>...</td>\n",
       "    </tr>\n",
       "    <tr>\n",
       "      <th>5567</th>\n",
       "      <td>spam</td>\n",
       "      <td>This is the 2nd time we have tried 2 contact u...</td>\n",
       "      <td>1</td>\n",
       "    </tr>\n",
       "    <tr>\n",
       "      <th>5568</th>\n",
       "      <td>ham</td>\n",
       "      <td>Will ü b going to esplanade fr home?</td>\n",
       "      <td>0</td>\n",
       "    </tr>\n",
       "    <tr>\n",
       "      <th>5569</th>\n",
       "      <td>ham</td>\n",
       "      <td>Pity, * was in mood for that. So...any other s...</td>\n",
       "      <td>0</td>\n",
       "    </tr>\n",
       "    <tr>\n",
       "      <th>5570</th>\n",
       "      <td>ham</td>\n",
       "      <td>The guy did some bitching but I acted like i'd...</td>\n",
       "      <td>0</td>\n",
       "    </tr>\n",
       "    <tr>\n",
       "      <th>5571</th>\n",
       "      <td>ham</td>\n",
       "      <td>Rofl. Its true to its name</td>\n",
       "      <td>0</td>\n",
       "    </tr>\n",
       "  </tbody>\n",
       "</table>\n",
       "<p>5572 rows × 3 columns</p>\n",
       "</div>"
      ],
      "text/plain": [
       "     Category                                            Message  IsSpam\n",
       "0         ham  Go until jurong point, crazy.. Available only ...       0\n",
       "1         ham                      Ok lar... Joking wif u oni...       0\n",
       "2        spam  Free entry in 2 a wkly comp to win FA Cup fina...       1\n",
       "3         ham  U dun say so early hor... U c already then say...       0\n",
       "4         ham  Nah I don't think he goes to usf, he lives aro...       0\n",
       "...       ...                                                ...     ...\n",
       "5567     spam  This is the 2nd time we have tried 2 contact u...       1\n",
       "5568      ham               Will ü b going to esplanade fr home?       0\n",
       "5569      ham  Pity, * was in mood for that. So...any other s...       0\n",
       "5570      ham  The guy did some bitching but I acted like i'd...       0\n",
       "5571      ham                         Rofl. Its true to its name       0\n",
       "\n",
       "[5572 rows x 3 columns]"
      ]
     },
     "execution_count": 34,
     "metadata": {},
     "output_type": "execute_result"
    }
   ],
   "source": [
    "# Add a category which is numerical\n",
    "df[\"IsSpam\"] = df['Category'].map({'spam': 1, 'ham': 0}) # an alternate way to set the values instead of using lambda\n",
    "# df[\"IsSpam1\"] = df['Category'].apply(lambda x:1 if x=='spam' else 0) # We need numerical column for our AI Model\n",
    "df"
   ]
  },
  {
   "cell_type": "markdown",
   "metadata": {},
   "source": [
    "# Machine Learning "
   ]
  },
  {
   "cell_type": "code",
   "execution_count": 35,
   "metadata": {},
   "outputs": [],
   "source": [
    "# defining a class to hold information of the selected model\n",
    "class ModelInfo:\n",
    "    \n",
    "    def __init__(self) -> None:\n",
    "        self.ModelName = \"No Model Selected\"\n",
    "        self.Model = None\n",
    "        self.Tokenizer = None\n",
    "        self.AccuracyScore = np.nan\n",
    "\n",
    "    def SetModelInfo(modelName, model, tokenizer, modelAccuracyScore):\n",
    "        self.ModelName = modelName\n",
    "        self.Model = model\n",
    "        self.AccuracyScore = modelAccuracyScore\n",
    "        self.Tokenizer = tokenizer"
   ]
  },
  {
   "cell_type": "code",
   "execution_count": 36,
   "metadata": {},
   "outputs": [],
   "source": [
    "# Build the model\n",
    "#CounterVectorizer Convert the text into matrics\n",
    "from sklearn.feature_extraction.text import CountVectorizer, TfidfVectorizer\n",
    "# Naive Bayes Have three Classifier(Bernouli,Multinominal,Gaussian) \n",
    "# Here we use Multinominal Bayes Because the data is in a discrete form \n",
    "from sklearn.naive_bayes import MultinomialNB\n",
    "from sklearn.linear_model import LogisticRegression\n",
    "from sklearn.pipeline import Pipeline # KR: What does this pipeline do?\n",
    "# Training the data\n",
    "from sklearn.model_selection import train_test_split\n",
    "from sklearn.metrics import accuracy_score, classification_report, confusion_matrix\n",
    "from sklearn.svm import SVC\n",
    "import warnings\n",
    "\n",
    "warnings.filterwarnings('ignore')"
   ]
  },
  {
   "cell_type": "markdown",
   "metadata": {},
   "source": [
    "# Prepare the training set"
   ]
  },
  {
   "cell_type": "code",
   "execution_count": 37,
   "metadata": {},
   "outputs": [],
   "source": [
    "# Defining all the models that i want to try into a dictionary\n",
    "models_dict = {\n",
    "    \"Naive Bayes Multinomia\": MultinomialNB(),\n",
    "    \"Logistic Regression\": LogisticRegression()\n",
    "}"
   ]
  },
  {
   "cell_type": "code",
   "execution_count": 38,
   "metadata": {},
   "outputs": [
    {
     "name": "stdout",
     "output_type": "stream",
     "text": [
      "Current Model: Naive Bayes Multinomia \t MultinomialNB()\n",
      "The accuracy score for the model MultinomialNB() iteration 0 is 0.9766816143497757\n",
      "The accuracy score for the model MultinomialNB() iteration 1 is 0.9659192825112107\n",
      "The accuracy score for the model MultinomialNB() iteration 2 is 0.9713004484304932\n",
      "The accuracy score for the model MultinomialNB() iteration 3 is 0.9721973094170404\n",
      "The accuracy score for the model MultinomialNB() iteration 4 is 0.97847533632287\n",
      "The accuracy score for the model MultinomialNB() iteration 5 is 0.9766816143497757\n",
      "The accuracy score for the model MultinomialNB() iteration 6 is 0.9605381165919282\n",
      "The accuracy score for the model MultinomialNB() iteration 7 is 0.9739910313901345\n",
      "The accuracy score for the model MultinomialNB() iteration 8 is 0.9721973094170404\n",
      "The accuracy score for the model MultinomialNB() iteration 9 is 0.9730941704035875\n",
      "The accuracy score for the model MultinomialNB() iteration 10 is 0.9766816143497757\n",
      "The accuracy score for the model MultinomialNB() iteration 11 is 0.9730941704035875\n",
      "The accuracy score for the model MultinomialNB() iteration 12 is 0.9721973094170404\n",
      "The accuracy score for the model MultinomialNB() iteration 13 is 0.9766816143497757\n",
      "The accuracy score for the model MultinomialNB() iteration 14 is 0.9775784753363229\n",
      "The accuracy score for the model MultinomialNB() iteration 15 is 0.967713004484305\n",
      "The accuracy score for the model MultinomialNB() iteration 16 is 0.9641255605381166\n",
      "The accuracy score for the model MultinomialNB() iteration 17 is 0.9695067264573991\n",
      "The accuracy score for the model MultinomialNB() iteration 18 is 0.9704035874439462\n",
      "The accuracy score for the model MultinomialNB() iteration 19 is 0.9766816143497757\n",
      "Mean Accuracy Score [20 Iterations]: 0.9722869955156952\n",
      "Current Model: Logistic Regression \t LogisticRegression()\n",
      "The accuracy score for the model LogisticRegression() iteration 0 is 0.9730941704035875\n",
      "The accuracy score for the model LogisticRegression() iteration 1 is 0.9632286995515695\n",
      "The accuracy score for the model LogisticRegression() iteration 2 is 0.9730941704035875\n",
      "The accuracy score for the model LogisticRegression() iteration 3 is 0.967713004484305\n",
      "The accuracy score for the model LogisticRegression() iteration 4 is 0.968609865470852\n",
      "The accuracy score for the model LogisticRegression() iteration 5 is 0.9524663677130045\n",
      "The accuracy score for the model LogisticRegression() iteration 6 is 0.9587443946188341\n",
      "The accuracy score for the model LogisticRegression() iteration 7 is 0.9650224215246637\n",
      "The accuracy score for the model LogisticRegression() iteration 8 is 0.9605381165919282\n",
      "The accuracy score for the model LogisticRegression() iteration 9 is 0.9623318385650225\n",
      "The accuracy score for the model LogisticRegression() iteration 10 is 0.9524663677130045\n",
      "The accuracy score for the model LogisticRegression() iteration 11 is 0.9614349775784753\n",
      "The accuracy score for the model LogisticRegression() iteration 12 is 0.9650224215246637\n",
      "The accuracy score for the model LogisticRegression() iteration 13 is 0.9623318385650225\n",
      "The accuracy score for the model LogisticRegression() iteration 14 is 0.95695067264574\n",
      "The accuracy score for the model LogisticRegression() iteration 15 is 0.9560538116591928\n",
      "The accuracy score for the model LogisticRegression() iteration 16 is 0.9632286995515695\n",
      "The accuracy score for the model LogisticRegression() iteration 17 is 0.9650224215246637\n",
      "The accuracy score for the model LogisticRegression() iteration 18 is 0.9695067264573991\n",
      "The accuracy score for the model LogisticRegression() iteration 19 is 0.9650224215246637\n",
      "Mean Accuracy Score [20 Iterations]: 0.9630941704035875\n"
     ]
    }
   ],
   "source": [
    "# Loop through the models and for each model you will have to train and test and get the accuracy\n",
    "# Since we canot loop and reference via index, we are converting the dictionary to a list\n",
    "models_list = list(models_dict)\n",
    "models_values_list = list(models_dict.values())\n",
    "temp_average_score = 0.0\n",
    "models_info = list()\n",
    "\n",
    "for l in range(len(models_list)):\n",
    "    print(\"Current Model:\",models_list[l], \"\\t\",models_values_list[l])\n",
    "    model = models_values_list[l]\n",
    "    # vectorize the x_train data and x_test data\n",
    "    vectorizer = TfidfVectorizer(min_df=1, stop_words='english', lowercase=True) # object to tokenize the messages\n",
    "\n",
    "    # Calculating the mean of the accuracy so that way we know if this would work for various test data\n",
    "    meanAccuracy_train_data = 0.0\n",
    "    repeatCount = 20\n",
    "    for i in range(0, repeatCount, 1):\n",
    "        x_train, x_test, y_train, y_test = train_test_split(df['Message'], df['IsSpam'], test_size=0.20)\n",
    "        \n",
    "        x_train_vect = vectorizer.fit_transform(x_train)\n",
    "        x_test_vect = vectorizer.transform(x_test)\n",
    "\n",
    "        # fit the vector data into the model\n",
    "        model.fit(x_train_vect, y_train)\n",
    "        \n",
    "        y_pred = model.predict(x_test_vect) # test with vectorized test data\n",
    "\n",
    "        # calculate the accuracy score for the model\n",
    "        accuracyScore = accuracy_score(y_test, y_pred)\n",
    "        print (f'The accuracy score for the model {model} iteration {i} is {accuracyScore}')\n",
    "        meanAccuracy_train_data += accuracyScore #pipe.score(x_test, y_test)\n",
    "\n",
    "        # Predicting\n",
    "        # y_train_pred = pipe.predict\n",
    "\n",
    "    meanAccuracy_train_data = meanAccuracy_train_data / repeatCount\n",
    "    print(f'Mean Accuracy Score [{repeatCount} Iterations]: {meanAccuracy_train_data}')\n",
    "\n",
    "    modelInfo = ModelInfo()\n",
    "    modelInfo.AccuracyScore = meanAccuracy_train_data\n",
    "    modelInfo.ModelName = models_list[l]\n",
    "    modelInfo.Model = model\n",
    "    modelInfo.Tokenizer = vectorizer\n",
    "    models_info.append(modelInfo)\n",
    "\n",
    "    # if the accuracy score is mre than the other ones, than we need to take the best algorithm to predict.\n",
    "    "
   ]
  },
  {
   "cell_type": "code",
   "execution_count": 39,
   "metadata": {},
   "outputs": [
    {
     "name": "stdout",
     "output_type": "stream",
     "text": [
      "Model Name:Naive Bayes Multinomia with accuracy 0.9722869955156952\n",
      "Model Name:Logistic Regression with accuracy 0.9630941704035875\n"
     ]
    }
   ],
   "source": [
    "for m in models_info:\n",
    "    print(f'Model Name:{m.ModelName} with accuracy {m.AccuracyScore}')"
   ]
  },
  {
   "cell_type": "code",
   "execution_count": 40,
   "metadata": {},
   "outputs": [
    {
     "name": "stdout",
     "output_type": "stream",
     "text": [
      "The prediction by the algorithm MultinomialNB() is 1\n"
     ]
    }
   ],
   "source": [
    "#models_info[0].Model.predict([\"You have won\"])\n",
    "# this will not work as you need to tokenize the input and send it to the model for prediction\n",
    "# mail = [\"this is the second time we have tried to contact you\"]\n",
    "mail = [\"Free entry in 2 a wkly comp to win FA Cup\"]\n",
    "input_data_features = models_info[0].Tokenizer.transform(mail)\n",
    "\n",
    "output = models_info[0].Model.predict(input_data_features)\n",
    "print(f\"The prediction by the algorithm {models_info[0].Model} is {output[0]}\")"
   ]
  },
  {
   "cell_type": "markdown",
   "metadata": {},
   "source": [
    "# Below this is just temp code and can be removed once the solution is complete"
   ]
  },
  {
   "cell_type": "code",
   "execution_count": 41,
   "metadata": {},
   "outputs": [],
   "source": [
    "# Creating a pipeline so that step 1, the data is tokenized and step 2 we apply model on the tokens\n",
    "# clf=Pipeline([\n",
    "#     ('vectorizer',CountVectorizer()),\n",
    "#     ('nb',MultinomialNB())\n",
    "# ])"
   ]
  },
  {
   "cell_type": "code",
   "execution_count": 42,
   "metadata": {},
   "outputs": [],
   "source": [
    "# print(\"Selected Algorithm:\", models_dict['Naive Bayes Multinomia'])\n"
   ]
  },
  {
   "cell_type": "code",
   "execution_count": 43,
   "metadata": {},
   "outputs": [],
   "source": [
    "# Calculating the mean of the accuracy so that way we know if this would work for various test data\n",
    "# meanAccuracy_train_data = 0.0\n",
    "# repeatCount = 20\n",
    "# for i in range(1, repeatCount, 1):\n",
    "#     x_train, x_test, y_train, y_test = train_test_split(df['Message'], df['IsSpam'], test_size=0.20)\n",
    "\n",
    "#     # fit the data with the pipeline\n",
    "#     clf.fit(x_train, y_train)\n",
    "#     meanAccuracy_train_data += clf.score(x_test, y_test)\n",
    "\n",
    "# meanAccuracy_train_data = meanAccuracy_train_data / repeatCount\n",
    "# meanAccuracy_train_data"
   ]
  },
  {
   "cell_type": "code",
   "execution_count": 44,
   "metadata": {},
   "outputs": [],
   "source": [
    "# emails=[\n",
    "#     'Sounds great! Are you home now?',\n",
    "#     'Will u meet ur dream partner soon? Is ur career off 2 a flyng start? 2 find out free, txt HORO followed by ur star sign, e. g. HORO ARIES'\n",
    "# ]"
   ]
  },
  {
   "cell_type": "code",
   "execution_count": 45,
   "metadata": {},
   "outputs": [],
   "source": [
    "# clf.predict(emails)"
   ]
  },
  {
   "cell_type": "code",
   "execution_count": 46,
   "metadata": {},
   "outputs": [],
   "source": [
    "# clf.predict(['Will u meet ur dream partner soon? Is ur career off 2 a flyng start?'])"
   ]
  },
  {
   "cell_type": "code",
   "execution_count": 47,
   "metadata": {},
   "outputs": [],
   "source": [
    "# a = clf.predict([\"Your purchase has already been handled. If you have any questions about your purchase. Please let us know. We would gladly contact you\"])\n",
    "# #clf.predict(['txt HORO followed by ur star sign, e. g. HORO ARIES'])"
   ]
  },
  {
   "cell_type": "code",
   "execution_count": 48,
   "metadata": {},
   "outputs": [],
   "source": [
    "# output = SD.IsSpam(\"Your purchase has already been handled. If you have any questions about your purchase\") # Output should be, it is a spam\n",
    "# SD.AddNewEntry(category, Content) # Single Line entry to Database\n",
    "# SD.AddNewEntry(file) # Multiple records in a structured way"
   ]
  },
  {
   "cell_type": "code",
   "execution_count": 49,
   "metadata": {},
   "outputs": [],
   "source": [
    "# SpamIdentifier.DecodeSpamOutput(SpamIdentifier.IsSpam(\"Hi How are you\"))"
   ]
  }
 ],
 "metadata": {
  "kernelspec": {
   "display_name": "base",
   "language": "python",
   "name": "python3"
  },
  "language_info": {
   "codemirror_mode": {
    "name": "ipython",
    "version": 3
   },
   "file_extension": ".py",
   "mimetype": "text/x-python",
   "name": "python",
   "nbconvert_exporter": "python",
   "pygments_lexer": "ipython3",
   "version": "3.11.7"
  }
 },
 "nbformat": 4,
 "nbformat_minor": 2
}
