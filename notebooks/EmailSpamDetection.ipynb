{
 "cells": [
  {
   "cell_type": "markdown",
   "metadata": {},
   "source": [
    "# Email Spam Detection\n",
    "#### Source can also be from https://www.kaggle.com/code/mfaisalqureshi/email-spam-detection-98-accuracy"
   ]
  },
  {
   "cell_type": "markdown",
   "metadata": {},
   "source": [
    "### Reference Libraries"
   ]
  },
  {
   "cell_type": "code",
   "execution_count": 104,
   "metadata": {},
   "outputs": [],
   "source": [
    "#!pip install termcolor # This will help you print text with colors"
   ]
  },
  {
   "cell_type": "code",
   "execution_count": 105,
   "metadata": {},
   "outputs": [],
   "source": [
    "import pandas as pd # data processing, file operations\n",
    "import numpy as np\n",
    "from sklearn.pipeline import Pipeline\n",
    "from termcolor import colored"
   ]
  },
  {
   "cell_type": "markdown",
   "metadata": {},
   "source": [
    "### Data Load"
   ]
  },
  {
   "cell_type": "code",
   "execution_count": 106,
   "metadata": {},
   "outputs": [],
   "source": [
    "def load_data():\n",
    "    df = pd.read_csv('../data/raw/mail_data.csv')\n",
    "    return df\n",
    "\n",
    "def extract_transform_load(df):\n",
    "    # Checking for null\n",
    "    empty_record_total = df.isna().sum()\n",
    "    print (f\"empty_record_total:{empty_record_total}\")\n",
    "    \n",
    "    # Add a category which is numerical\n",
    "    df[\"IsSpam\"] = df['Category'].map({'spam': 1, 'ham': 0}) # an alternate way to set the values instead of using lambda\n",
    "    # df[\"IsSpam1\"] = df['Category'].apply(lambda x:1 if x=='spam' else 0) # We need numerical column for our AI Model\n"
   ]
  },
  {
   "cell_type": "code",
   "execution_count": 107,
   "metadata": {},
   "outputs": [],
   "source": [
    "df = load_data()"
   ]
  },
  {
   "cell_type": "markdown",
   "metadata": {},
   "source": [
    "### Extract Transform Load (ETL)"
   ]
  },
  {
   "cell_type": "code",
   "execution_count": 108,
   "metadata": {},
   "outputs": [
    {
     "name": "stdout",
     "output_type": "stream",
     "text": [
      "empty_record_total:Category    0\n",
      "Message     0\n",
      "dtype: int64\n"
     ]
    },
    {
     "data": {
      "text/html": [
       "<div>\n",
       "<style scoped>\n",
       "    .dataframe tbody tr th:only-of-type {\n",
       "        vertical-align: middle;\n",
       "    }\n",
       "\n",
       "    .dataframe tbody tr th {\n",
       "        vertical-align: top;\n",
       "    }\n",
       "\n",
       "    .dataframe thead th {\n",
       "        text-align: right;\n",
       "    }\n",
       "</style>\n",
       "<table border=\"1\" class=\"dataframe\">\n",
       "  <thead>\n",
       "    <tr style=\"text-align: right;\">\n",
       "      <th></th>\n",
       "      <th>Category</th>\n",
       "      <th>Message</th>\n",
       "      <th>IsSpam</th>\n",
       "    </tr>\n",
       "  </thead>\n",
       "  <tbody>\n",
       "    <tr>\n",
       "      <th>0</th>\n",
       "      <td>ham</td>\n",
       "      <td>Go until jurong point, crazy.. Available only ...</td>\n",
       "      <td>0</td>\n",
       "    </tr>\n",
       "    <tr>\n",
       "      <th>1</th>\n",
       "      <td>ham</td>\n",
       "      <td>Ok lar... Joking wif u oni...</td>\n",
       "      <td>0</td>\n",
       "    </tr>\n",
       "    <tr>\n",
       "      <th>2</th>\n",
       "      <td>spam</td>\n",
       "      <td>Free entry in 2 a wkly comp to win FA Cup fina...</td>\n",
       "      <td>1</td>\n",
       "    </tr>\n",
       "    <tr>\n",
       "      <th>3</th>\n",
       "      <td>ham</td>\n",
       "      <td>U dun say so early hor... U c already then say...</td>\n",
       "      <td>0</td>\n",
       "    </tr>\n",
       "    <tr>\n",
       "      <th>4</th>\n",
       "      <td>ham</td>\n",
       "      <td>Nah I don't think he goes to usf, he lives aro...</td>\n",
       "      <td>0</td>\n",
       "    </tr>\n",
       "    <tr>\n",
       "      <th>...</th>\n",
       "      <td>...</td>\n",
       "      <td>...</td>\n",
       "      <td>...</td>\n",
       "    </tr>\n",
       "    <tr>\n",
       "      <th>5567</th>\n",
       "      <td>spam</td>\n",
       "      <td>This is the 2nd time we have tried 2 contact u...</td>\n",
       "      <td>1</td>\n",
       "    </tr>\n",
       "    <tr>\n",
       "      <th>5568</th>\n",
       "      <td>ham</td>\n",
       "      <td>Will ü b going to esplanade fr home?</td>\n",
       "      <td>0</td>\n",
       "    </tr>\n",
       "    <tr>\n",
       "      <th>5569</th>\n",
       "      <td>ham</td>\n",
       "      <td>Pity, * was in mood for that. So...any other s...</td>\n",
       "      <td>0</td>\n",
       "    </tr>\n",
       "    <tr>\n",
       "      <th>5570</th>\n",
       "      <td>ham</td>\n",
       "      <td>The guy did some bitching but I acted like i'd...</td>\n",
       "      <td>0</td>\n",
       "    </tr>\n",
       "    <tr>\n",
       "      <th>5571</th>\n",
       "      <td>ham</td>\n",
       "      <td>Rofl. Its true to its name</td>\n",
       "      <td>0</td>\n",
       "    </tr>\n",
       "  </tbody>\n",
       "</table>\n",
       "<p>5572 rows × 3 columns</p>\n",
       "</div>"
      ],
      "text/plain": [
       "     Category                                            Message  IsSpam\n",
       "0         ham  Go until jurong point, crazy.. Available only ...       0\n",
       "1         ham                      Ok lar... Joking wif u oni...       0\n",
       "2        spam  Free entry in 2 a wkly comp to win FA Cup fina...       1\n",
       "3         ham  U dun say so early hor... U c already then say...       0\n",
       "4         ham  Nah I don't think he goes to usf, he lives aro...       0\n",
       "...       ...                                                ...     ...\n",
       "5567     spam  This is the 2nd time we have tried 2 contact u...       1\n",
       "5568      ham               Will ü b going to esplanade fr home?       0\n",
       "5569      ham  Pity, * was in mood for that. So...any other s...       0\n",
       "5570      ham  The guy did some bitching but I acted like i'd...       0\n",
       "5571      ham                         Rofl. Its true to its name       0\n",
       "\n",
       "[5572 rows x 3 columns]"
      ]
     },
     "execution_count": 108,
     "metadata": {},
     "output_type": "execute_result"
    }
   ],
   "source": [
    "extract_transform_load(df)\n",
    "df"
   ]
  },
  {
   "cell_type": "markdown",
   "metadata": {},
   "source": [
    "## Machine Learning "
   ]
  },
  {
   "cell_type": "code",
   "execution_count": 109,
   "metadata": {},
   "outputs": [],
   "source": [
    "# defining a class to hold information of the selected model\n",
    "class ModelInfo:\n",
    "    \n",
    "    def __init__(self) -> None:\n",
    "        self.ModelName = \"No Model Selected\"\n",
    "        self.Model = None\n",
    "        self.Tokenizer = None\n",
    "        self.AccuracyScore = np.nan\n",
    "\n",
    "    def SetModelInfo(modelName, model, tokenizer, modelAccuracyScore):\n",
    "        self.ModelName = modelName\n",
    "        self.Model = model\n",
    "        self.AccuracyScore = modelAccuracyScore\n",
    "        self.Tokenizer = tokenizer"
   ]
  },
  {
   "cell_type": "code",
   "execution_count": 110,
   "metadata": {},
   "outputs": [],
   "source": [
    "# Build the model\n",
    "#CounterVectorizer Convert the text into matrics\n",
    "from sklearn.feature_extraction.text import TfidfVectorizer\n",
    "# Naive Bayes Have three Classifier(Bernouli,Multinominal,Gaussian) \n",
    "# Here we use Multinominal Bayes Because the data is in a discrete form \n",
    "from sklearn.naive_bayes import MultinomialNB\n",
    "from sklearn.linear_model import LogisticRegression\n",
    "from sklearn.pipeline import Pipeline # KR: What does this pipeline do?\n",
    "# Training the data\n",
    "from sklearn.model_selection import train_test_split\n",
    "from sklearn.metrics import accuracy_score, classification_report, confusion_matrix\n",
    "from sklearn.svm import SVC\n",
    "import warnings\n",
    "\n",
    "warnings.filterwarnings('ignore')"
   ]
  },
  {
   "cell_type": "markdown",
   "metadata": {},
   "source": [
    "### Prepare the training set"
   ]
  },
  {
   "cell_type": "code",
   "execution_count": 111,
   "metadata": {},
   "outputs": [],
   "source": [
    "# Defining all the models that i want to try into a dictionary\n",
    "# TODO: KR: Read these information from a config file and write a function to load this as a pipe\n",
    "# TODO: KR: Make the algorithms dynamic so that we can build a class to add new models without touching the code\n",
    "def get_training_models():\n",
    "    models_dict = {\n",
    "        \"Logistic Regression\": LogisticRegression(),\n",
    "        \"Naive Bayes Multinomia\": MultinomialNB()\n",
    "    }\n",
    "    return models_dict"
   ]
  },
  {
   "cell_type": "code",
   "execution_count": 112,
   "metadata": {},
   "outputs": [],
   "source": [
    "\n",
    "def select_best_model(df, enable_trace=False):\n",
    "    # Loop through the models and for each model you will have to train and test and get the accuracy\n",
    "    # Since we canot loop and reference via index, we are converting the dictionary to a list\n",
    "    models_dict = get_training_models()\n",
    "    models_list = list(models_dict)\n",
    "    models_values_list = list(models_dict.values())\n",
    "    temp_average_score = 0.0\n",
    "    models_info = list()\n",
    "    selected_model = ModelInfo()\n",
    "    recomended_model_count = len(models_list)\n",
    "    \n",
    "    if (enable_trace):\n",
    "        print(f\"Recomended Models Count: {recomended_model_count}\")\n",
    "        \n",
    "    for l in range(len(models_list)):\n",
    "        print(colored(f\"\\nCurrent Model: {models_list[l]} [{models_values_list[l]}]\", 'yellow'))\n",
    "        model = models_values_list[l]\n",
    "        # vectorize the x_train data and x_test data\n",
    "        vectorizer = TfidfVectorizer(min_df=1, stop_words='english', lowercase=True) # object to tokenize the messages\n",
    "\n",
    "        # Calculating the mean of the accuracy so that way we know if this would work for various test data\n",
    "        meanAccuracy_train_data = 0.0\n",
    "        repeatCount = 20 # Ensure we get the accuracy for different train data\n",
    "        for i in range(0, repeatCount, 1):\n",
    "            x_train, x_test, y_train, y_test = train_test_split(df['Message'], df['IsSpam'], test_size=0.20)\n",
    "            \n",
    "            x_train_vect = vectorizer.fit_transform(x_train)\n",
    "            x_test_vect = vectorizer.transform(x_test)\n",
    "\n",
    "            # fit the vector data into the model\n",
    "            model.fit(x_train_vect, y_train)\n",
    "            \n",
    "            y_pred = model.predict(x_test_vect) # test with vectorized test data\n",
    "\n",
    "            # calculate the accuracy score for the model\n",
    "            accuracyScore = accuracy_score(y_test, y_pred)\n",
    "            if (enable_trace):\n",
    "                print (f'\\t The accuracy score for the model {model} iteration {i} is {accuracyScore}')\n",
    "            meanAccuracy_train_data += accuracyScore\n",
    "\n",
    "            # Predicting\n",
    "            # y_train_pred = pipe.predict\n",
    "\n",
    "        meanAccuracy_train_data = meanAccuracy_train_data / repeatCount\n",
    "        print(colored(f'Mean Accuracy Score [{repeatCount} Iterations]: {meanAccuracy_train_data}', 'magenta'))\n",
    "        \n",
    "        if (enable_trace):\n",
    "            print(f\"\\tcurrent_model.AccuracyScore: {meanAccuracy_train_data}, \\n\\tcurrent_model.ModelName: {models_list[l]}, \\n\\tcurrent_model.Model: {model}, \\n\\tcurrent_model.Tokenizer: {vectorizer}\")\n",
    "\n",
    "        current_model = ModelInfo()\n",
    "        current_model.AccuracyScore = meanAccuracy_train_data\n",
    "        current_model.ModelName = models_list[l]\n",
    "        current_model.Model = model\n",
    "        current_model.Tokenizer = vectorizer\n",
    "        models_info.append(current_model)\n",
    "        \n",
    "        if (enable_trace):\n",
    "            print(f\"\\tmodels_info_count: {len(models_info)}, models_info_type: {type(models_info)}\")\n",
    "            print(f\"\\t index:{l}, {models_info[l].Model}\")\n",
    "            #print(f\"\\t index:{l+1}, {models_info[l+1].Model}\")\n",
    "        sel_model_accuracy = np.nan_to_num(selected_model.AccuracyScore)\n",
    "        \n",
    "        #print(f\"Selected Model's Accuracy:{sel_model_accuracy}, Current Model's Accuracy:{current_model.AccuracyScore}\")\n",
    "        if (sel_model_accuracy < current_model.AccuracyScore):\n",
    "            selected_model = current_model\n",
    "\n",
    "    # if the accuracy score is mre than the other ones, than we need to take the best algorithm to predict.\n",
    "    for m in models_info:\n",
    "        print(f'Model Name:{m.ModelName} with accuracy {m.AccuracyScore}')\n",
    "        \n",
    "    return selected_model\n",
    "    "
   ]
  },
  {
   "cell_type": "code",
   "execution_count": 113,
   "metadata": {},
   "outputs": [
    {
     "name": "stdout",
     "output_type": "stream",
     "text": [
      "\u001b[33m\n",
      "Current Model: Logistic Regression [LogisticRegression()]\u001b[0m\n",
      "\u001b[35mMean Accuracy Score [20 Iterations]: 0.9643049327354263\u001b[0m\n",
      "\u001b[33m\n",
      "Current Model: Naive Bayes Multinomia [MultinomialNB()]\u001b[0m\n",
      "\u001b[35mMean Accuracy Score [20 Iterations]: 0.9698206278026905\u001b[0m\n",
      "Model Name:Logistic Regression with accuracy 0.9643049327354263\n",
      "Model Name:Naive Bayes Multinomia with accuracy 0.9698206278026905\n",
      "\n",
      " The selected Model's Name: Naive Bayes Multinomia\n"
     ]
    }
   ],
   "source": [
    "# Selecting the best model based on the data that was given\n",
    "model = select_best_model(df)\n",
    "print(f\"\\n The selected Model's Name: {model.ModelName}\")"
   ]
  },
  {
   "cell_type": "code",
   "execution_count": 114,
   "metadata": {},
   "outputs": [
    {
     "name": "stdout",
     "output_type": "stream",
     "text": [
      "The prediction by the algorithm MultinomialNB() is 1\n"
     ]
    }
   ],
   "source": [
    "mail = [\"Free entry in 2 a wkly comp to win FA Cup\"]\n",
    "input_data_features = model.Tokenizer.transform(mail)\n",
    "\n",
    "output = model.Model.predict(input_data_features)\n",
    "print(f\"The prediction by the algorithm {model.Model} is {output[0]}\")"
   ]
  }
 ],
 "metadata": {
  "kernelspec": {
   "display_name": "base",
   "language": "python",
   "name": "python3"
  },
  "language_info": {
   "codemirror_mode": {
    "name": "ipython",
    "version": 3
   },
   "file_extension": ".py",
   "mimetype": "text/x-python",
   "name": "python",
   "nbconvert_exporter": "python",
   "pygments_lexer": "ipython3",
   "version": "3.11.7"
  }
 },
 "nbformat": 4,
 "nbformat_minor": 2
}
